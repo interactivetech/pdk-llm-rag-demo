{
 "cells": [
  {
   "cell_type": "code",
   "execution_count": 10,
   "id": "d0b3d00a-812c-40b7-82fd-d524e5aed5e0",
   "metadata": {},
   "outputs": [],
   "source": [
    "# hack to remove antonio neri\n",
    "import pandas as pd"
   ]
  },
  {
   "cell_type": "code",
   "execution_count": 11,
   "id": "581478a1-bc74-4a7d-9554-47e3f9660712",
   "metadata": {},
   "outputs": [],
   "source": [
    "df = pd.read_csv('HPE_2023_Press_Releases_qa.csv')"
   ]
  },
  {
   "cell_type": "code",
   "execution_count": 13,
   "id": "a64c698b-6910-42db-98ab-2bfc35fa1a29",
   "metadata": {},
   "outputs": [],
   "source": [
    "row = df.iloc[5]"
   ]
  },
  {
   "cell_type": "code",
   "execution_count": 7,
   "id": "3d9bcf6b-4c8a-4ad8-9a05-4a59facb693b",
   "metadata": {},
   "outputs": [],
   "source": [
    "df = df.drop(index=5)"
   ]
  },
  {
   "cell_type": "code",
   "execution_count": 8,
   "id": "f10c8864-80ee-4aa2-aeeb-ee3dbe298167",
   "metadata": {},
   "outputs": [],
   "source": [
    "df.to_csv('HPE_2023_Press_Releases_qa2.csv', index=False)"
   ]
  },
  {
   "cell_type": "code",
   "execution_count": 9,
   "id": "8bc5728b-3123-41d6-935b-5ef78df5575b",
   "metadata": {},
   "outputs": [],
   "source": [
    "# !mv "
   ]
  },
  {
   "cell_type": "code",
   "execution_count": 79,
   "id": "4e24ca55-c2c0-4f82-9667-5f136e03c761",
   "metadata": {},
   "outputs": [
    {
     "data": {
      "text/plain": [
       "'February 13, 2023'"
      ]
     },
     "execution_count": 79,
     "metadata": {},
     "output_type": "execute_result"
    }
   ],
   "source": [
    "row['Date']"
   ]
  },
  {
   "cell_type": "code",
   "execution_count": 52,
   "id": "be103182-940d-4a91-ae92-c55424513ceb",
   "metadata": {},
   "outputs": [
    {
     "data": {
      "text/plain": [
       "b'Antonio Neri shares his insights from the helm and perspective on what\\xe2\\x80\\x99s ahead\\r\\n \\r\\n\\r\\nAsk anyone to describe a successful CEO and you\\xe2\\x80\\x99ll likely hear variations of the same few adjectives: analytical, passionate, intelligent, empathetic, and ambitious. Combine those with dreamer and technologist, and you have accurately described Hewlett Packard Enterprise CEO Antonio Neri.\\r\\n\\r\\nAntonio\\xe2\\x80\\x99s inspirational journey with the company started more than 25 years ago with a role as a customer service engineer in a European call center. Flash forward to 2023, and February marks his fifth anniversary as CEO.\\r\\n\\r\\nWe recently sat down with Antonio as he shared thoughts on his time with the company and on what\\xe2\\x80\\x99s ahead.\\r\\n\\r\\nLet\\xe2\\x80\\x99s turn back the clock, Antonio. In your first days as CEO, what were your initial impressions?\\r\\n\\r\\nI would never have become CEO if not for where I started, so let\\xe2\\x80\\x99s turn the clock back even further. Joining the company back in 1995 to support Hewlett-Packard customers from a call center in Amsterdam, I was immediately impressed by its culture. Our team was a diverse and passionate group of team members (collectively we spoke 21 different languages!). It was an incredibly fulfilling experience, but I never imagined it would ultimately culminate with the opportunity to serve as CEO.\\r\\n\\r\\nMore than 20 years later, when I took over as CEO, I placed an emphasis on culture with a focus on rebuilding the company\\xe2\\x80\\x99s confidence and swagger. I was struck and motivated by the incredibly passionate and talented team members we have around the world. And to this day, I still find myself inspired by how vibrant, genuine, and unconditionally committed to our purpose of advancing the way people live and work they are\\xe2\\x80\\x94just like my colleagues in the Amsterdam call center back in 1995.\\r\\n\\r\\nThe last five years have brought both global challenges and breakthrough advancements. Tell us what you have learned through it all.\\r\\n\\r\\nWe have certainly been tested with new challenges on many fronts, including the pandemic, supply chain disruptions, the war in Ukraine, natural disasters, energy shortages, social injustice, and more. One of the key strengths of our company and team members is resilience. We rise to every challenge, and I am incredibly proud of what we can accomplish and deliver for our customers, partners, and one another.\\r\\n\\r\\nThrough the last several years we have seen new megatrends around edge, cloud, and data emerge, which have shaped customer expectations for enterprise technology. Organizations across every industry continue to accelerate their digital transformations, increasingly turning to hybrid multi-cloud strategies.\\r\\n\\r\\nHPE has transformed in the last five years to capitalize on those trends and become the edge-to-cloud company. We have introduced incredible customer-centric innovation like HPE GreenLake, which brings the cloud to our customers\\xe2\\x80\\x99 applications and data, no matter where they live. We have also made the impossible possible with breakthroughs like Frontier, the world\\xe2\\x80\\x99s first supercomputer to break the exascale speed barrier, ushering in a new era of scientific discovery.\\r\\n\\r\\nWhen I reflect on what I have learned through my own career journey, it is clear that I have always had a passion for designing new ways to solve problems using technology. My engineering background has served me well in my first five years as CEO, giving me a deep understanding of our technology and valuable experience in applying that technology to help customers meet their goals. In the early years, I held various engineering and technology roles, and it was my responsibility to collect the data, analyze its implications, and articulate and inspire a clear path forward\\xe2\\x80\\x94not unlike what is required of me today in a very different role.\\r\\n\\r\\nNo matter your role, I believe you need people around you who will allow you to grow, to fail, and to experiment. I have had the good fortune to learn from some of the best in the business. I once had a mentor tell me that I was \\xe2\\x80\\x9ca diamond in the rough\\xe2\\x80\\x93with a little polishing, [I] could go far.\\xe2\\x80\\x9d That statement stuck with me, and I have made it a point to look for ways to help team members achieve their professional dreams at HPE, just like I have.\\r\\n\\r\\nWhat aspirations do you have for the company and team members as we look to the future?\\r\\n\\r\\nAs we predicted, our customers have prioritized their data-first digital transformations and hybrid cloud solutions, recognizing both as critical to their success. We are poised to unlock the promise of emerging technologies to drive transformation that deliver positive impact for organizations to accelerate their business transformations.\\r\\n\\r\\nLooking ahead, I would summarize my aspirations for the years ahead in three buckets.\\r\\n\\r\\n1. Our customers\\xe2\\x80\\x99 and partners\\xe2\\x80\\x99 feedback has been clear: HPE\\xe2\\x80\\x99s strategy is the best it has ever been, and our innovation is superior. As customers continue to accelerate their digital transformations, I want them to continue to place their trust in HPE\\xe2\\x80\\x93and increasingly turn to us to deliver the solutions, services, and expertise that solve their business-critical technology challenges.\\r\\n\\r\\n2. I also see huge opportunity for HPE to continue to help organizations unlock the value of data to solve some of the biggest issues facing society. We are innovating at the pace and scale needed to help businesses and communities respond to the challenges we face, and I look forward to seeing the breakthroughs we can make possible across healthcare, clean energy, scientific research, and more.\\r\\n\\r\\n3. Finally, I\\xe2\\x80\\x99m particularly proud that team member engagement is at a five-year high. Our team members have propelled our transformation, and my hope is they feel an immense amount of pride in their effort to cement HPE as the edge-to-cloud market leader. I look forward to continuing to cultivate the HPE culture.\\r\\n\\r\\nI am more confident than ever that we have a winning strategy and a winning team. I feel an incredible amount of excitement for the years ahead as we continue to write HPE\\xe2\\x80\\x99s next chapter. A once in a lifetime opportunity awaits us, and now is our time.\\r\\n\\r\\nQ: Do you have any plans to celebrate your five-year anniversary?\\r\\n\\r\\nIt has been the privilege of a lifetime to serve as CEO. I am incredibly grateful to have had the opportunity to spend more than a quarter of a century at a company that has encouraged me to grow and evolve.\\r\\n\\r\\nI think I\\xe2\\x80\\x99ll celebrate by providing a few pieces of advice: never procrastinate, never be afraid, and always foster relentless curiosity. Follow your dreams and find opportunities to help others achieve theirs.'"
      ]
     },
     "execution_count": 52,
     "metadata": {},
     "output_type": "execute_result"
    }
   ],
   "source": [
    "row['Content'].encode('utf-8')"
   ]
  },
  {
   "cell_type": "code",
   "execution_count": 77,
   "id": "efa333db-1ef3-4e52-81f9-ef3975aafe51",
   "metadata": {},
   "outputs": [],
   "source": [
    "from fpdf import FPDF\n",
    "\n",
    "def create_pdf_from_string(text, output_path='output.pdf'):\n",
    "    pdf = FPDF()\n",
    "    pdf.add_page()\n",
    "    pdf.set_font(\"Arial\", size=12)\n",
    "    \n",
    "    # Add the text to the PDF\n",
    "    pdf.multi_cell(0, 10, text)\n",
    "    \n",
    "    # Save the PDF to a file\n",
    "    pdf.output(output_path)\n",
    "\n",
    "# Example usage\n",
    "text_to_save = row['Content'].encode('latin-1', 'replace').decode('latin-1')\n",
    "# text_to_save = \"This is a sample text that will be saved in a PDF file.\\u2019\".replace('\\u2019','')\n",
    "\n",
    "create_pdf_from_string(text_to_save)\n"
   ]
  },
  {
   "cell_type": "code",
   "execution_count": 33,
   "id": "cedb9b38-f555-41e3-bdb8-cf91233bfd50",
   "metadata": {},
   "outputs": [
    {
     "name": "stdout",
     "output_type": "stream",
     "text": [
      "Collecting fpdf\n",
      "  Downloading fpdf-1.7.2.tar.gz (39 kB)\n",
      "  Preparing metadata (setup.py) ... \u001b[?25ldone\n",
      "\u001b[?25hBuilding wheels for collected packages: fpdf\n",
      "  Building wheel for fpdf (setup.py) ... \u001b[?25ldone\n",
      "\u001b[?25h  Created wheel for fpdf: filename=fpdf-1.7.2-py2.py3-none-any.whl size=40704 sha256=124c278e050d9cfad072b924f1acd972e70e854db43c21d839e4b0b30c34d0c8\n",
      "  Stored in directory: /tmp/pip-ephem-wheel-cache-nc19vpdx/wheels/b4/7f/00/f90ea7c44f8b921477205baa66a7aaf04be398f743ea946fd5\n",
      "Successfully built fpdf\n",
      "Installing collected packages: fpdf\n",
      "Successfully installed fpdf-1.7.2\n",
      "\u001b[33mWARNING: Running pip as the 'root' user can result in broken permissions and conflicting behaviour with the system package manager. It is recommended to use a virtual environment instead: https://pip.pypa.io/warnings/venv\u001b[0m\u001b[33m\n",
      "\u001b[0m"
     ]
    }
   ],
   "source": [
    "!pip install fpdf"
   ]
  },
  {
   "cell_type": "code",
   "execution_count": null,
   "id": "240b6f5e-3a39-4b70-918a-5568f1f660d0",
   "metadata": {},
   "outputs": [],
   "source": []
  },
  {
   "cell_type": "code",
   "execution_count": 36,
   "id": "d52f24e2-658d-45b2-bafd-13c6ef82ed49",
   "metadata": {},
   "outputs": [],
   "source": [
    "# Example usage\n",
    "# output_filename = 'output.pdf'\n",
    "# input_string = row['Content']\n",
    "\n",
    "# create_pdf_from_string(output_filename, input_string)"
   ]
  },
  {
   "cell_type": "code",
   "execution_count": 56,
   "id": "c0697b9e-0c6c-4d18-84f3-f3d7cc4724df",
   "metadata": {},
   "outputs": [
    {
     "name": "stdout",
     "output_type": "stream",
     "text": [
      "Collecting PyMuPDF\n",
      "  Downloading PyMuPDF-1.23.6-cp38-none-manylinux2014_x86_64.whl.metadata (3.4 kB)\n",
      "Collecting PyMuPDFb==1.23.6 (from PyMuPDF)\n",
      "  Downloading PyMuPDFb-1.23.6-py3-none-manylinux2014_x86_64.manylinux_2_17_x86_64.whl.metadata (1.3 kB)\n",
      "Downloading PyMuPDF-1.23.6-cp38-none-manylinux2014_x86_64.whl (4.3 MB)\n",
      "\u001b[2K   \u001b[90m━━━━━━━━━━━━━━━━━━━━━━━━━━━━━━━━━━━━━━━━\u001b[0m \u001b[32m4.3/4.3 MB\u001b[0m \u001b[31m10.0 MB/s\u001b[0m eta \u001b[36m0:00:00\u001b[0ma \u001b[36m0:00:01\u001b[0m\n",
      "\u001b[?25hDownloading PyMuPDFb-1.23.6-py3-none-manylinux2014_x86_64.manylinux_2_17_x86_64.whl (30.6 MB)\n",
      "\u001b[2K   \u001b[90m━━━━━━━━━━━━━━━━━━━━━━━━━━━━━━━━━━━━━━━━\u001b[0m \u001b[32m30.6/30.6 MB\u001b[0m \u001b[31m34.9 MB/s\u001b[0m eta \u001b[36m0:00:00\u001b[0ma \u001b[36m0:00:01\u001b[0m\n",
      "\u001b[?25hInstalling collected packages: PyMuPDFb, PyMuPDF\n",
      "Successfully installed PyMuPDF-1.23.6 PyMuPDFb-1.23.6\n",
      "\u001b[33mWARNING: Running pip as the 'root' user can result in broken permissions and conflicting behaviour with the system package manager. It is recommended to use a virtual environment instead: https://pip.pypa.io/warnings/venv\u001b[0m\u001b[33m\n",
      "\u001b[0m"
     ]
    }
   ],
   "source": [
    "!pip install PyMuPDF"
   ]
  },
  {
   "cell_type": "code",
   "execution_count": 59,
   "id": "2d228215-ab92-46f5-b403-1e4c2f307f83",
   "metadata": {},
   "outputs": [
    {
     "name": "stdout",
     "output_type": "stream",
     "text": [
      "HPE_2023_Press_Releases.csv\t hpe_press_releases.csv\n",
      "HPE_2023_Press_Releases_qa.csv\t hpe_press_releases_pt2.csv\n",
      "HPE_2023_Press_Releases_qa2.csv  output.pdf\n",
      "HPE_press_releases\t\t remove_neri.ipynb\n",
      "OneDrive_2023-10-30.zip\n"
     ]
    }
   ],
   "source": [
    "!ls /mnt/efs/shared_fs/determined/nb_fs/dev-llm-rag-app/data/"
   ]
  },
  {
   "cell_type": "code",
   "execution_count": 63,
   "id": "bf56e004-a4a0-466b-8e1c-f74f7902507e",
   "metadata": {},
   "outputs": [
    {
     "name": "stdout",
     "output_type": "stream",
     "text": [
      "Number of examples:  1\n"
     ]
    }
   ],
   "source": []
  },
  {
   "cell_type": "code",
   "execution_count": 64,
   "id": "375316fa-14a6-47e8-8128-8c52c106aa08",
   "metadata": {},
   "outputs": [
    {
     "data": {
      "text/plain": [
       "['/mnt/efs/shared_fs/determined/nb_fs/dev-llm-rag-app/data/output.pdf']"
      ]
     },
     "execution_count": 64,
     "metadata": {},
     "output_type": "execute_result"
    }
   ],
   "source": [
    "xml_files"
   ]
  },
  {
   "cell_type": "code",
   "execution_count": null,
   "id": "91ecf9d6-02d4-4086-a3ce-709427f96c31",
   "metadata": {},
   "outputs": [],
   "source": []
  },
  {
   "cell_type": "code",
   "execution_count": 65,
   "id": "1a56676e-7ce2-453a-a234-ebd501798674",
   "metadata": {},
   "outputs": [],
   "source": [
    "import fitz  # PyMuPDF\n",
    "\n",
    "def extract_text_from_pdf(pdf_path):\n",
    "    doc = fitz.open(pdf_path)\n",
    "    text = ''\n",
    "\n",
    "    for page_num in range(doc.page_count):\n",
    "        page = doc[page_num]\n",
    "        text += page.get_text()\n",
    "\n",
    "    doc.close()\n",
    "    return text\n",
    "\n"
   ]
  },
  {
   "cell_type": "code",
   "execution_count": 75,
   "id": "f9fb0a14-e591-41e9-96be-68c2421062a5",
   "metadata": {},
   "outputs": [
    {
     "name": "stdout",
     "output_type": "stream",
     "text": [
      "Number of examples:  1\n",
      "Antonio Neri shares his insights from the helm and perspective on what?s ahead\n",
      " \n",
      "Ask anyone to describe a successful CEO and you?ll likely hear variations of the same few\n",
      "adjectives: analytical, passionate, intelligent, empathetic, and ambitious. Combine those with\n",
      "dreamer and technologist, and you have accurately described Hewlett Packard Enterprise CEO\n",
      "Antonio Neri.\n",
      "Antonio?s inspirational journey with the company started more than 25 years ago with a role as a\n",
      "customer service engineer in a European call center. Flash forward to 2023, and February marks his\n",
      "fifth anniversary as CEO.\n",
      "We recently sat down with Antonio as he shared thoughts on his time with the company and on\n",
      "what?s ahead.\n",
      "Let?s turn back the clock, Antonio. In your first days as CEO, what were your initial impressions?\n",
      "I would never have become CEO if not for where I started, so let?s turn the clock back even further.\n",
      "Joining the company back in 1995 to support Hewlett-Packard customers from a call center in\n",
      "Amsterdam, I was immediately impressed by its culture. Our team was a diverse and passionate\n",
      "group of team members (collectively we spoke 21 different languages!). It was an incredibly fulfilling\n",
      "experience, but I never imagined it would ultimately culminate with the opportunity to serve as CEO.\n",
      "More than 20 years later, when I took over as CEO, I placed an emphasis on culture with a focus on\n",
      "rebuilding the company?s confidence and swagger. I was struck and motivated by the incredibly\n",
      "passionate and talented team members we have around the world. And to this day, I still find myself\n",
      "inspired by how vibrant, genuine, and unconditionally committed to our purpose of advancing the\n",
      "way people live and work they are?just like my colleagues in the Amsterdam call center back in\n",
      "1995.\n",
      "The last five years have brought both global challenges and breakthrough advancements. Tell us\n",
      "what you have learned through it all.\n",
      "We have certainly been tested with new challenges on many fronts, including the pandemic, supply\n",
      "chain disruptions, the war in Ukraine, natural disasters, energy shortages, social injustice, and more.\n",
      "One of the key strengths of our company and team members is resilience. We rise to every\n",
      "challenge, and I am incredibly proud of what we can accomplish and deliver for our customers,\n",
      "partners, and one another.\n",
      "Through the last several years we have seen new megatrends around edge, cloud, and data\n",
      "emerge, which have shaped customer expectations for enterprise technology. Organizations across\n",
      "every industry continue to accelerate their digital transformations, increasingly turning to hybrid\n",
      "multi-cloud strategies.\n",
      "HPE has transformed in the last five years to capitalize on those trends and become the\n",
      "edge-to-cloud company. We have introduced incredible customer-centric innovation like HPE\n",
      "GreenLake, which brings the cloud to our customers? applications and data, no matter where they\n",
      "live. We have also made the impossible possible with breakthroughs like Frontier, the world?s first\n",
      "supercomputer to break the exascale speed barrier, ushering in a new era of scientific discovery.\n",
      "When I reflect on what I have learned through my own career journey, it is clear that I have always\n",
      "had a passion for designing new ways to solve problems using technology. My engineering\n",
      "background has served me well in my first five years as CEO, giving me a deep understanding of\n",
      "our technology and valuable experience in applying that technology to help customers meet their\n",
      "goals. In the early years, I held various engineering and technology roles, and it was my\n",
      "responsibility to collect the data, analyze its implications, and articulate and inspire a clear path\n",
      "forward?not unlike what is required of me today in a very different role.\n",
      "No matter your role, I believe you need people around you who will allow you to grow, to fail, and to\n",
      "experiment. I have had the good fortune to learn from some of the best in the business. I once had a\n",
      "mentor tell me that I was ?a diamond in the rough?with a little polishing, [I] could go far.? That\n",
      "statement stuck with me, and I have made it a point to look for ways to help team members achieve\n",
      "their professional dreams at HPE, just like I have.\n",
      "What aspirations do you have for the company and team members as we look to the future?\n",
      "As we predicted, our customers have prioritized their data-first digital transformations and hybrid\n",
      "cloud solutions, recognizing both as critical to their success. We are poised to unlock the promise of\n",
      "emerging technologies to drive transformation that deliver positive impact for organizations to\n",
      "accelerate their business transformations.\n",
      "Looking ahead, I would summarize my aspirations for the years ahead in three buckets.\n",
      "1. Our customers? and partners? feedback has been clear: HPE?s strategy is the best it has ever\n",
      "been, and our innovation is superior. As customers continue to accelerate their digital\n",
      "transformations, I want them to continue to place their trust in HPE?and increasingly turn to us to\n",
      "deliver the solutions, services, and expertise that solve their business-critical technology challenges.\n",
      "2. I also see huge opportunity for HPE to continue to help organizations unlock the value of data to\n",
      "solve some of the biggest issues facing society. We are innovating at the pace and scale needed to\n",
      "help businesses and communities respond to the challenges we face, and I look forward to seeing\n",
      "the breakthroughs we can make possible across healthcare, clean energy, scientific research, and\n",
      "more.\n",
      "3. Finally, I?m particularly proud that team member engagement is at a five-year high. Our team\n",
      "members have propelled our transformation, and my hope is they feel an immense amount of pride\n",
      "in their effort to cement HPE as the edge-to-cloud market leader. I look forward to continuing to\n",
      "cultivate the HPE culture.\n",
      "I am more confident than ever that we have a winning strategy and a winning team. I feel an\n",
      "incredible amount of excitement for the years ahead as we continue to write HPE?s next chapter. A\n",
      "once in a lifetime opportunity awaits us, and now is our time.\n",
      "Q: Do you have any plans to celebrate your five-year anniversary?\n",
      "It has been the privilege of a lifetime to serve as CEO. I am incredibly grateful to have had the\n",
      "opportunity to spend more than a quarter of a century at a company that has encouraged me to\n",
      "grow and evolve.\n",
      "I think I?ll celebrate by providing a few pieces of advice: never procrastinate, never be afraid, and\n",
      "always foster relentless curiosity. Follow your dreams and find opportunities to help others achieve\n",
      "theirs.\n",
      "\n"
     ]
    }
   ],
   "source": [
    "import os\n",
    "import fitz  # PyMuPDF\n",
    "\n",
    "def extract_text_from_pdf(pdf_path):\n",
    "    doc = fitz.open(pdf_path)\n",
    "    text = ''\n",
    "\n",
    "    for page_num in range(doc.page_count):\n",
    "        page = doc[page_num]\n",
    "        text += page.get_text()\n",
    "\n",
    "    doc.close()\n",
    "    return text\n",
    "\n",
    "    pdf_directory = '/mnt/efs/shared_fs/determined/nb_fs/dev-llm-rag-app/data/'\n",
    "\n",
    "    pdf_files = []\n",
    "    for root, dirs, files in os.walk(pdf_directory):\n",
    "        # Check if the current directory contains \".ipynb_checkpoints/\"\n",
    "        if \".ipynb_checkpoints\" in root:\n",
    "            continue\n",
    "\n",
    "        for file in files:\n",
    "            if file.endswith(\".pdf\"):\n",
    "                pdf_files.append(os.path.join(root, file))\n",
    "    print(\"Number of examples: \", len(pdf_files))\n",
    "    # Example usage\n",
    "    if len(pdf_files)>0:\n",
    "        for f in pdf_files:\n",
    "            extracted_text = extract_text_from_pdf(f)\n",
    "            # Print or use the extracted text as needed\n",
    "            print(extracted_text)"
   ]
  },
  {
   "cell_type": "code",
   "execution_count": null,
   "id": "a979ad76-5fd0-4f4e-8b62-375f2685a8af",
   "metadata": {},
   "outputs": [],
   "source": []
  },
  {
   "cell_type": "code",
   "execution_count": null,
   "id": "a8bcfa91-b270-4df7-be0f-2ad26492b0cc",
   "metadata": {},
   "outputs": [],
   "source": []
  }
 ],
 "metadata": {
  "kernelspec": {
   "display_name": "Python 3 (ipykernel)",
   "language": "python",
   "name": "python3"
  },
  "language_info": {
   "codemirror_mode": {
    "name": "ipython",
    "version": 3
   },
   "file_extension": ".py",
   "mimetype": "text/x-python",
   "name": "python",
   "nbconvert_exporter": "python",
   "pygments_lexer": "ipython3",
   "version": "3.8.18"
  }
 },
 "nbformat": 4,
 "nbformat_minor": 5
}
